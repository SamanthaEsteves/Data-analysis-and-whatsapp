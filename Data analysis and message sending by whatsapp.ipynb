{
 "cells": [
  {
   "cell_type": "code",
   "execution_count": null,
   "metadata": {},
   "outputs": [],
   "source": [
    "# Importa bibliotecas\n",
    "\n",
    "import pandas as pd\n",
    "import time \n",
    "import re\n",
    "import urllib\n",
    "\n",
    "from selenium import webdriver\n",
    "from selenium.webdriver.common.keys import Keys\n",
    "from selenium.webdriver.common.by import By"
   ]
  },
  {
   "cell_type": "code",
   "execution_count": null,
   "metadata": {},
   "outputs": [],
   "source": [
    "# Importa planilha\n",
    "\n",
    "file = pd.read_excel(\"Mandar mensagem whatsapp.xlsx\")"
   ]
  },
  {
   "cell_type": "code",
   "execution_count": null,
   "metadata": {},
   "outputs": [],
   "source": [
    "#\n",
    "\n",
    "def messages():\n",
    "    \n",
    "    mean_A1 = file[\"Sales_A1\"].mean()\n",
    "    mean_A2 = file[\"Sales_A2\"].mean()\n",
    "    mean_A3 = file[\"Sales_A3\"].mean()\n",
    "    geral_mean = (file[\"Sales_A1\"].sum() + file[\"Sales_A1\"].sum() + file[\"Sales_A2\"].sum() + file[\"Sales_A3\"].sum()) / 3\n",
    "    \n",
    "    for row in file.index:\n",
    "        name = file.loc[row, \"Name\"]\n",
    "        user_value_A1 = file.loc[row, \"Sales_A1\"]\n",
    "        user_value_A2 = file.loc[row, \"Sales_A2\"]\n",
    "        user_value_A3 = file.loc[row, \"Sales_A3\"]\n",
    "        geral_user_mean = (user_value_A1.sum() + user_value_A2.sum() + user_value_A3.sum()) / 3\n",
    "\n",
    "        if geral_user_mean >= geral_mean:\n",
    "            message = \"Sendo assim, estamos satisfeitos com o seu desemprenho! Muito obrigada por ser um contribuidor.\"\n",
    "        else:\n",
    "            message = \"Sendo assim, estamos um pouco preocupados com seu desempenho em relação às metas.\"\n",
    "\n",
    "        final_message = (f\"Sr(a) {name}, viemos por meio deste lhe informar suas métricas gerais em comparação às métricas gerais da empresa. Seus resultados de vendas dos últimos 3 anos foram de R${user_value_A1}.00, R${user_value_A2}.00 e R${user_value_A3}.00. Já os resultados médios da empresa foram R${mean_A1}, R${mean_A2} e R${mean_A3}.\\n {message}\")\n",
    "        \n",
    "        # Converte a mensagem para html\n",
    "        final_message = urllib.parse.quote(final_message)\n",
    "    return final_message"
   ]
  },
  {
   "cell_type": "code",
   "execution_count": null,
   "metadata": {},
   "outputs": [],
   "source": [
    "# Acessa o navegador de internet\n",
    "\n",
    "def send_message():\n",
    "    \n",
    "    # Abre o whatsapp\n",
    "    web = webdriver.Chrome()\n",
    "    web.get(\"https://web.whatsapp.com/\")\n",
    "\n",
    "    for row in file.index:\n",
    "        name = file.loc[row, \"Name\"]\n",
    "        number = file.loc[row, \"Number\"]\n",
    "\n",
    "        # Deixa o telefone somente com números \n",
    "        number = re.sub('[^0-9]', '', str(number))\n",
    "\n",
    "        # Importa a função das mensagens\n",
    "        send_message = messages()\n",
    "\n",
    "        # Entra no link da pessoa direto\n",
    "        link = f\"https://web.whatsapp.com/send?phone={number}&text={send_message}\"\n",
    "        web.get(link)\n",
    "        time.sleep(20)\n",
    "\n",
    "        # Aperta Enter para enviar a mensagem\n",
    "        web.find_element(By.XPATH,'//*[@id=\"main\"]/footer/div[1]/div/span[2]/div/div[2]/div[2]/button/span').click()\n",
    "    web.quit()\n",
    "    \n",
    "send_message()"
   ]
  }
 ],
 "metadata": {
  "kernelspec": {
   "display_name": "Python 3.10.4 64-bit",
   "language": "python",
   "name": "python3"
  },
  "language_info": {
   "codemirror_mode": {
    "name": "ipython",
    "version": 3
   },
   "file_extension": ".py",
   "mimetype": "text/x-python",
   "name": "python",
   "nbconvert_exporter": "python",
   "pygments_lexer": "ipython3",
   "version": "3.10.7"
  },
  "orig_nbformat": 4,
  "vscode": {
   "interpreter": {
    "hash": "efb7a97d474e1365eb3cc1499572f8bbefdf3cf8bd59fd2202ae78240eb011e1"
   }
  }
 },
 "nbformat": 4,
 "nbformat_minor": 2
}
